{
 "cells": [
  {
   "cell_type": "code",
   "execution_count": 6,
   "metadata": {
    "collapsed": false
   },
   "outputs": [
    {
     "name": "stdout",
     "output_type": "stream",
     "text": [
      "Populating the interactive namespace from numpy and matplotlib\n",
      "0.659278520041\n",
      "0.69 409 564 0.0307814755161\n",
      "-1.72181479644\n",
      "is the p value 0.00 smaller than the critical value 0.05? \n",
      "YES!\n",
      "the Null hypothesis is rejected\n"
     ]
    }
   ],
   "source": [
    "import os\n",
    "import sys\n",
    "import numpy as np\n",
    "import pylab as pl\n",
    "\n",
    "import json\n",
    "import os\n",
    "\n",
    "%pylab inline\n",
    "\n",
    "from IPython.display import Image\n",
    "\n",
    "alpha=0.05\n",
    "P_0=69*0.01 \n",
    "P_1=63.7*0.01\n",
    "\n",
    "n_0=409\n",
    "n_1=564\n",
    "\n",
    "Nt_0=P_0*n_0\n",
    "Nt_1=P_1*n_1\n",
    "\n",
    "sp=(P_0*n_0+P_1*n_1)/(n_1+n_0)\n",
    "print sp\n",
    "\n",
    "\n",
    "sp_stdev= lambda p, n: np.sqrt( p * ( 1 - p ) /n[0] +  p * ( 1 - p )/n[1]  )\n",
    "\n",
    "sp_stdev_2y=sp_stdev((Nt_0+Nt_1)/(n_0+n_1),[n_0,n_1])\n",
    "print P_0, n_0, n_1, sp_stdev_2y\n",
    "\n",
    "\n",
    "zscore = lambda p0, p1, s : (p0-p1)/s\n",
    "z_2y = zscore(P_1, P_0, sp_stdev_2y)\n",
    "print z_2y\n",
    "p_2y=1-0.9998\n",
    "\n",
    "def report_result(p,a):\n",
    "    print 'is the p value {0:.2f} smaller than the critical value {1:.2f}? '.format(p,a)\n",
    "    if p<a:\n",
    "        print \"YES!\"\n",
    "    else: print \"NO!\"\n",
    "    \n",
    "    print 'the Null hypothesis is {}'.format( 'rejected' if p<a  else 'not rejected') \n",
    "\n",
    "report_result(p_2y,alpha)"
   ]
  },
  {
   "cell_type": "code",
   "execution_count": 8,
   "metadata": {
    "collapsed": false
   },
   "outputs": [
    {
     "name": "stdout",
     "output_type": "stream",
     "text": [
      "10.9922120261\n"
     ]
    }
   ],
   "source": [
    "Ntot = 973\n",
    "expected = 564*409*409.679*562.912\n",
    "sample_values = [[14.7*5.64,29.9*5.64],[11.9*4.09,96.5*4.09]]\n",
    " \n",
    "chisqstat= lambda N, values, expect : N*((values[0][0]*values[1][1]-values[0][1]*values[1][0])**2)/(expect)\n",
    "\n",
    "print chisqstat(Ntot,  sample_values, expected)"
   ]
  }
 ],
 "metadata": {
  "kernelspec": {
   "display_name": "Python 2",
   "language": "python",
   "name": "python2"
  },
  "language_info": {
   "codemirror_mode": {
    "name": "ipython",
    "version": 2
   },
   "file_extension": ".py",
   "mimetype": "text/x-python",
   "name": "python",
   "nbconvert_exporter": "python",
   "pygments_lexer": "ipython2",
   "version": "2.7.10"
  }
 },
 "nbformat": 4,
 "nbformat_minor": 0
}
